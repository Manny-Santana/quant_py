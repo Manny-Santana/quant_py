{
 "cells": [
  {
   "cell_type": "code",
   "execution_count": 8,
   "id": "32fcf89d",
   "metadata": {},
   "outputs": [],
   "source": [
    "import numpy as np\n",
    "\n"
   ]
  },
  {
   "cell_type": "code",
   "execution_count": 5,
   "id": "59af0d0a",
   "metadata": {},
   "outputs": [],
   "source": [
    "# ch 2 exercises\n",
    "\n",
    "#  CREATE A NP ARRAY - 1 dimensional , 10 elements , all initialized to zero\n",
    "\n",
    "array = np.zeros(10)\n"
   ]
  },
  {
   "cell_type": "code",
   "execution_count": 6,
   "id": "10087f16",
   "metadata": {},
   "outputs": [
    {
     "data": {
      "text/plain": [
       "array([0., 0., 0., 0., 0., 0., 0., 0., 0., 0.])"
      ]
     },
     "execution_count": 6,
     "metadata": {},
     "output_type": "execute_result"
    }
   ],
   "source": [
    "array\n"
   ]
  },
  {
   "cell_type": "code",
   "execution_count": 7,
   "id": "5feb392d",
   "metadata": {},
   "outputs": [
    {
     "data": {
      "text/plain": [
       "array([[0., 0., 0., 0., 0.],\n",
       "       [0., 0., 0., 0., 0.]])"
      ]
     },
     "execution_count": 7,
     "metadata": {},
     "output_type": "execute_result"
    }
   ],
   "source": [
    "# reshape the array into a 2 x 5 matrix\n",
    "\n",
    "array.reshape(2,5) "
   ]
  },
  {
   "cell_type": "code",
   "execution_count": 11,
   "id": "6f4e7f2b",
   "metadata": {},
   "outputs": [],
   "source": [
    "# ELEMENT WISE ADDITION AND MULTIPLICATION\n",
    "# create matrix a and b of size 3 x 3 perform element wise addition and multiplication \n",
    "\n",
    "A = np.random.rand(3,3)\n",
    "B = np.random.rand(3,3)\n",
    "\n",
    "sum_matrix = A + B\n",
    "\n",
    "\n",
    "mult_matrix = A * B"
   ]
  },
  {
   "cell_type": "code",
   "execution_count": 12,
   "id": "eaf76ba6",
   "metadata": {},
   "outputs": [
    {
     "data": {
      "text/plain": [
       "array([[0.96084614, 1.2802071 , 0.77832297],\n",
       "       [0.93475676, 0.2226236 , 0.42003483],\n",
       "       [1.56951766, 0.39186828, 1.06956356]])"
      ]
     },
     "execution_count": 12,
     "metadata": {},
     "output_type": "execute_result"
    }
   ],
   "source": [
    "sum_matrix"
   ]
  },
  {
   "cell_type": "code",
   "execution_count": 13,
   "id": "fe141bf1",
   "metadata": {},
   "outputs": [
    {
     "data": {
      "text/plain": [
       "array([[0.08218098, 0.39628187, 0.14616014],\n",
       "       [0.20708517, 0.0034256 , 0.032831  ],\n",
       "       [0.58873533, 0.00320187, 0.26508655]])"
      ]
     },
     "execution_count": 13,
     "metadata": {},
     "output_type": "execute_result"
    }
   ],
   "source": [
    "mult_matrix"
   ]
  },
  {
   "cell_type": "code",
   "execution_count": 14,
   "id": "4b84e600",
   "metadata": {},
   "outputs": [
    {
     "data": {
      "text/plain": [
       "array([[0.09490349, 0.75608065, 0.31645302],\n",
       "       [0.36080735, 0.0166296 , 0.10382743],\n",
       "       [0.9494133 , 0.38351964, 0.6793674 ]])"
      ]
     },
     "execution_count": 14,
     "metadata": {},
     "output_type": "execute_result"
    }
   ],
   "source": [
    "A"
   ]
  },
  {
   "cell_type": "code",
   "execution_count": 15,
   "id": "71eda969",
   "metadata": {},
   "outputs": [
    {
     "data": {
      "text/plain": [
       "array([[0.86594265, 0.52412645, 0.46186995],\n",
       "       [0.57394941, 0.205994  , 0.3162074 ],\n",
       "       [0.62010436, 0.00834864, 0.39019616]])"
      ]
     },
     "execution_count": 15,
     "metadata": {},
     "output_type": "execute_result"
    }
   ],
   "source": [
    "B"
   ]
  },
  {
   "cell_type": "code",
   "execution_count": 16,
   "id": "74099acc",
   "metadata": {},
   "outputs": [
    {
     "data": {
      "text/plain": [
       "array([[0.09490349, 0.36080735, 0.9494133 ],\n",
       "       [0.75608065, 0.0166296 , 0.38351964],\n",
       "       [0.31645302, 0.10382743, 0.6793674 ]])"
      ]
     },
     "execution_count": 16,
     "metadata": {},
     "output_type": "execute_result"
    }
   ],
   "source": [
    "# transpose matrix A\n",
    "transposed_A = A.T\n",
    "\n",
    "transposed_A"
   ]
  },
  {
   "cell_type": "code",
   "execution_count": 17,
   "id": "d25e003c",
   "metadata": {},
   "outputs": [
    {
     "data": {
      "text/plain": [
       "array([[0.71236692, 0.20813146, 0.40639012],\n",
       "       [0.38636687, 0.19340109, 0.21241754],\n",
       "       [1.46353703, 0.58228716, 0.82486378]])"
      ]
     },
     "execution_count": 17,
     "metadata": {},
     "output_type": "execute_result"
    }
   ],
   "source": [
    "# multiply matrices a and b using matrix multiplication\n",
    "\n",
    "dot_product = np.dot(A,B)\n",
    "dot_product"
   ]
  },
  {
   "cell_type": "code",
   "execution_count": 18,
   "id": "52166c2c",
   "metadata": {},
   "outputs": [
    {
     "data": {
      "text/plain": [
       "array([0.71236692, 0.19340109, 0.82486378])"
      ]
     },
     "execution_count": 18,
     "metadata": {},
     "output_type": "execute_result"
    }
   ],
   "source": [
    "# get the diagonal elements\n",
    "dot_product.diagonal()"
   ]
  },
  {
   "cell_type": "code",
   "execution_count": null,
   "id": "d6b8e768",
   "metadata": {},
   "outputs": [],
   "source": []
  }
 ],
 "metadata": {
  "kernelspec": {
   "display_name": "Python 3 (ipykernel)",
   "language": "python",
   "name": "python3"
  },
  "language_info": {
   "codemirror_mode": {
    "name": "ipython",
    "version": 3
   },
   "file_extension": ".py",
   "mimetype": "text/x-python",
   "name": "python",
   "nbconvert_exporter": "python",
   "pygments_lexer": "ipython3",
   "version": "3.8.10"
  }
 },
 "nbformat": 4,
 "nbformat_minor": 5
}
